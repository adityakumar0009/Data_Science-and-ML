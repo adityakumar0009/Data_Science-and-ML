{
 "cells": [
  {
   "cell_type": "code",
   "execution_count": 2,
   "id": "4f2ca819-f18d-4459-8511-d869f6334660",
   "metadata": {},
   "outputs": [],
   "source": [
    "import numpy as np"
   ]
  },
  {
   "cell_type": "code",
   "execution_count": 3,
   "id": "0a4ff71d-d755-4a4d-97f6-59ac7c5050b8",
   "metadata": {},
   "outputs": [],
   "source": [
    "arr = np.random.randint(10,60,(5,3,3))"
   ]
  },
  {
   "cell_type": "code",
   "execution_count": 4,
   "id": "98004019-9c3f-4719-b777-de9d6decac20",
   "metadata": {},
   "outputs": [
    {
     "data": {
      "text/plain": [
       "array([[[43, 50, 17],\n",
       "        [44, 26, 46],\n",
       "        [39, 27, 31]],\n",
       "\n",
       "       [[34, 58, 44],\n",
       "        [23, 41, 13],\n",
       "        [14, 58, 15]],\n",
       "\n",
       "       [[36, 38, 30],\n",
       "        [53, 22, 16],\n",
       "        [13, 56, 35]],\n",
       "\n",
       "       [[53, 20, 27],\n",
       "        [22, 42, 13],\n",
       "        [30, 56, 59]],\n",
       "\n",
       "       [[32, 18, 27],\n",
       "        [42, 44, 38],\n",
       "        [22, 22, 26]]])"
      ]
     },
     "execution_count": 4,
     "metadata": {},
     "output_type": "execute_result"
    }
   ],
   "source": [
    "arr"
   ]
  },
  {
   "cell_type": "code",
   "execution_count": 5,
   "id": "a2d7d879-bc3e-4d8d-aa3a-1e51095e8236",
   "metadata": {},
   "outputs": [
    {
     "data": {
      "text/plain": [
       "array([[43, 50, 17],\n",
       "       [44, 26, 46],\n",
       "       [39, 27, 31]])"
      ]
     },
     "execution_count": 5,
     "metadata": {},
     "output_type": "execute_result"
    }
   ],
   "source": [
    "arr[0]"
   ]
  },
  {
   "cell_type": "code",
   "execution_count": 6,
   "id": "e8cc1d03-4b8b-48b2-924b-49007404e7d0",
   "metadata": {},
   "outputs": [
    {
     "data": {
      "text/plain": [
       "array([[[43, 50, 17],\n",
       "        [44, 26, 46],\n",
       "        [39, 27, 31]]])"
      ]
     },
     "execution_count": 6,
     "metadata": {},
     "output_type": "execute_result"
    }
   ],
   "source": [
    "arr[0:1]"
   ]
  },
  {
   "cell_type": "code",
   "execution_count": 7,
   "id": "d21e57e6-9286-4a8e-ae9a-cbb970e8b622",
   "metadata": {},
   "outputs": [
    {
     "data": {
      "text/plain": [
       "3"
      ]
     },
     "execution_count": 7,
     "metadata": {},
     "output_type": "execute_result"
    }
   ],
   "source": [
    "arr.ndim"
   ]
  },
  {
   "cell_type": "code",
   "execution_count": 8,
   "id": "b9371cca-4b97-4c9e-a223-19b80d95e4c6",
   "metadata": {},
   "outputs": [
    {
     "data": {
      "text/plain": [
       "(5, 3, 3)"
      ]
     },
     "execution_count": 8,
     "metadata": {},
     "output_type": "execute_result"
    }
   ],
   "source": [
    "arr.shape"
   ]
  },
  {
   "cell_type": "code",
   "execution_count": 9,
   "id": "85fdd77e-49df-440e-b8ab-292f51669611",
   "metadata": {},
   "outputs": [
    {
     "data": {
      "text/plain": [
       "array([[17, 46, 31],\n",
       "       [44, 13, 15]])"
      ]
     },
     "execution_count": 9,
     "metadata": {},
     "output_type": "execute_result"
    }
   ],
   "source": [
    "arr[0:2,::,-1]"
   ]
  },
  {
   "cell_type": "code",
   "execution_count": 10,
   "id": "591649e1-a4e4-49a9-9bdd-fea2e6d3a3ff",
   "metadata": {},
   "outputs": [],
   "source": [
    "arr[0,0,0]=500"
   ]
  },
  {
   "cell_type": "code",
   "execution_count": 11,
   "id": "83f5f576-428b-4e85-b820-00a617b3b930",
   "metadata": {},
   "outputs": [
    {
     "data": {
      "text/plain": [
       "array([[[500,  50,  17],\n",
       "        [ 44,  26,  46],\n",
       "        [ 39,  27,  31]],\n",
       "\n",
       "       [[ 34,  58,  44],\n",
       "        [ 23,  41,  13],\n",
       "        [ 14,  58,  15]],\n",
       "\n",
       "       [[ 36,  38,  30],\n",
       "        [ 53,  22,  16],\n",
       "        [ 13,  56,  35]],\n",
       "\n",
       "       [[ 53,  20,  27],\n",
       "        [ 22,  42,  13],\n",
       "        [ 30,  56,  59]],\n",
       "\n",
       "       [[ 32,  18,  27],\n",
       "        [ 42,  44,  38],\n",
       "        [ 22,  22,  26]]])"
      ]
     },
     "execution_count": 11,
     "metadata": {},
     "output_type": "execute_result"
    }
   ],
   "source": [
    "arr"
   ]
  },
  {
   "cell_type": "code",
   "execution_count": 12,
   "id": "8eafdd58-8489-4b46-b9fb-a5e4941ead46",
   "metadata": {},
   "outputs": [
    {
     "data": {
      "text/plain": [
       "500"
      ]
     },
     "execution_count": 12,
     "metadata": {},
     "output_type": "execute_result"
    }
   ],
   "source": [
    "arr.max()"
   ]
  },
  {
   "cell_type": "code",
   "execution_count": 13,
   "id": "7a64f20e-4ee0-44d2-be51-cb2565ef112e",
   "metadata": {},
   "outputs": [
    {
     "data": {
      "text/plain": [
       "13"
      ]
     },
     "execution_count": 13,
     "metadata": {},
     "output_type": "execute_result"
    }
   ],
   "source": [
    "arr.min()"
   ]
  },
  {
   "cell_type": "code",
   "execution_count": 14,
   "id": "4074e64e-fbe2-4760-9fcb-bf5426f9b183",
   "metadata": {},
   "outputs": [
    {
     "data": {
      "text/plain": [
       "43.82222222222222"
      ]
     },
     "execution_count": 14,
     "metadata": {},
     "output_type": "execute_result"
    }
   ],
   "source": [
    "arr.mean()"
   ]
  },
  {
   "cell_type": "code",
   "execution_count": 15,
   "id": "67fa5a08-ef78-49cf-bcc8-bd7b7d7fc1b0",
   "metadata": {},
   "outputs": [
    {
     "data": {
      "text/plain": [
       "array([[ 4,  8, 12],\n",
       "       [ 6, 10, 14]])"
      ]
     },
     "execution_count": 15,
     "metadata": {},
     "output_type": "execute_result"
    }
   ],
   "source": [
    "arr = np.array([2,4,6])\n",
    "arr1 = np.array([[2,4,6],[4,6,8]])\n",
    "arr+arr1"
   ]
  },
  {
   "cell_type": "code",
   "execution_count": 16,
   "id": "f1416f7d-a565-4d9e-9e78-3301c2008497",
   "metadata": {},
   "outputs": [
    {
     "data": {
      "text/plain": [
       "array([[ 4, 16, 36],\n",
       "       [ 8, 24, 48]])"
      ]
     },
     "execution_count": 16,
     "metadata": {},
     "output_type": "execute_result"
    }
   ],
   "source": [
    "arr*arr1"
   ]
  },
  {
   "cell_type": "code",
   "execution_count": 17,
   "id": "17180f26-8d74-450e-8eb0-9c4ccfaa4ed0",
   "metadata": {},
   "outputs": [],
   "source": [
    "arr = np.random.randint(2,10,(7,3))"
   ]
  },
  {
   "cell_type": "code",
   "execution_count": 18,
   "id": "89115334-c5f0-4b06-9ed4-1e4ac17af193",
   "metadata": {},
   "outputs": [
    {
     "data": {
      "text/plain": [
       "array([[2, 5, 8],\n",
       "       [3, 8, 9],\n",
       "       [3, 4, 3],\n",
       "       [7, 8, 5],\n",
       "       [5, 4, 5],\n",
       "       [2, 6, 6],\n",
       "       [5, 2, 3]])"
      ]
     },
     "execution_count": 18,
     "metadata": {},
     "output_type": "execute_result"
    }
   ],
   "source": [
    "arr"
   ]
  },
  {
   "cell_type": "code",
   "execution_count": 19,
   "id": "0e72e6d2-b431-4fc1-ba96-d3cbe8bffb24",
   "metadata": {},
   "outputs": [
    {
     "data": {
      "text/plain": [
       "array([[2, 3, 3, 7, 5, 2, 5],\n",
       "       [5, 8, 4, 8, 4, 6, 2],\n",
       "       [8, 9, 3, 5, 5, 6, 3]])"
      ]
     },
     "execution_count": 19,
     "metadata": {},
     "output_type": "execute_result"
    }
   ],
   "source": [
    "arr.T"
   ]
  },
  {
   "cell_type": "code",
   "execution_count": 20,
   "id": "f196f590-a700-4c10-883c-c6c614a685fa",
   "metadata": {},
   "outputs": [
    {
     "data": {
      "text/plain": [
       "(3, 7)"
      ]
     },
     "execution_count": 20,
     "metadata": {},
     "output_type": "execute_result"
    }
   ],
   "source": [
    "arr.T.shape"
   ]
  },
  {
   "cell_type": "code",
   "execution_count": 22,
   "id": "6a970c7a-719c-44cf-9a99-6bf45d92ff0c",
   "metadata": {},
   "outputs": [],
   "source": [
    "arr = np.array([2,4,6])\n",
    "arr1 = np.array([[2,4,6],[4,6,8]])"
   ]
  },
  {
   "cell_type": "code",
   "execution_count": 23,
   "id": "1f945489-f67d-4885-93c1-4d55816d5925",
   "metadata": {},
   "outputs": [
    {
     "data": {
      "text/plain": [
       "array([ 4,  8, 12,  6, 10, 14])"
      ]
     },
     "execution_count": 23,
     "metadata": {},
     "output_type": "execute_result"
    }
   ],
   "source": [
    "np.concatenate(arr+arr1)"
   ]
  },
  {
   "cell_type": "code",
   "execution_count": 25,
   "id": "6b1046d0-2016-4eac-8e98-e4ebf61c2978",
   "metadata": {},
   "outputs": [],
   "source": [
    "# len(arr[arr>4])"
   ]
  },
  {
   "cell_type": "code",
   "execution_count": 26,
   "id": "0cf4721f-04cc-4b0e-ba86-bdfb1b497d77",
   "metadata": {},
   "outputs": [],
   "source": [
    "arr = np.random.randint(1,200,100)"
   ]
  },
  {
   "cell_type": "code",
   "execution_count": 27,
   "id": "dc6b189f-27a4-4d0f-8dc4-452144a2491c",
   "metadata": {},
   "outputs": [
    {
     "data": {
      "text/plain": [
       "array([102, 183,  84, 127,  65, 179, 184, 140,  84,  93,  92, 134, 170,\n",
       "        51,  47,  99, 152,  63, 142,  70, 187,  38,  21, 179, 162,   8,\n",
       "       103, 103, 147,  87,  28, 120, 112, 176, 128, 107,  25, 144,  19,\n",
       "       171,   8, 170,  98,   3, 168, 151,  35,  29,   6,  17, 181, 132,\n",
       "        25, 141,  53, 110,  59,  46, 115,  36,  88, 145,  91,  87,  89,\n",
       "        49,   5, 134, 146,   4, 142, 190, 177,  52, 163,  38, 160,  62,\n",
       "        30,  36,  65,   5,  26,  74, 163, 179, 135, 178, 111, 144, 122,\n",
       "        96, 165,  49, 134, 163, 125, 164, 119, 180])"
      ]
     },
     "execution_count": 27,
     "metadata": {},
     "output_type": "execute_result"
    }
   ],
   "source": [
    "arr"
   ]
  },
  {
   "cell_type": "code",
   "execution_count": 28,
   "id": "8f3c06ab-1fd3-4a09-8977-2f0237da459e",
   "metadata": {},
   "outputs": [
    {
     "data": {
      "text/plain": [
       "25"
      ]
     },
     "execution_count": 28,
     "metadata": {},
     "output_type": "execute_result"
    }
   ],
   "source": [
    "len(arr[arr>150])"
   ]
  },
  {
   "cell_type": "code",
   "execution_count": 30,
   "id": "26f30839-5abd-451b-9414-d16f2a7643c6",
   "metadata": {},
   "outputs": [
    {
     "data": {
      "text/plain": [
       "(81,)"
      ]
     },
     "execution_count": 30,
     "metadata": {},
     "output_type": "execute_result"
    }
   ],
   "source": [
    "np.unique(arr).shape"
   ]
  },
  {
   "cell_type": "code",
   "execution_count": 31,
   "id": "f2b9ee3c-25e9-473c-a362-4f3faf8c7440",
   "metadata": {},
   "outputs": [
    {
     "data": {
      "text/plain": [
       "81"
      ]
     },
     "execution_count": 31,
     "metadata": {},
     "output_type": "execute_result"
    }
   ],
   "source": [
    "len(np.unique(arr))"
   ]
  },
  {
   "cell_type": "code",
   "execution_count": 32,
   "id": "b6c07911-419f-4f70-ab84-1cd650b34df1",
   "metadata": {},
   "outputs": [
    {
     "data": {
      "text/plain": [
       "43"
      ]
     },
     "execution_count": 32,
     "metadata": {},
     "output_type": "execute_result"
    }
   ],
   "source": [
    "np.argmin(arr) #return index of minimum position"
   ]
  },
  {
   "cell_type": "code",
   "execution_count": 33,
   "id": "0fa2f41d-b0f4-45c4-a43e-6f8b0b3110cb",
   "metadata": {},
   "outputs": [
    {
     "data": {
      "text/plain": [
       "71"
      ]
     },
     "execution_count": 33,
     "metadata": {},
     "output_type": "execute_result"
    }
   ],
   "source": [
    "np.argmax(arr) #return index of maximum position"
   ]
  },
  {
   "cell_type": "code",
   "execution_count": 34,
   "id": "191aeed9-3caf-471c-9784-fae1009ca48f",
   "metadata": {},
   "outputs": [],
   "source": [
    "arr.sort()"
   ]
  },
  {
   "cell_type": "code",
   "execution_count": 35,
   "id": "9a49707e-358b-4f32-a784-9b4c9c857ef9",
   "metadata": {},
   "outputs": [
    {
     "data": {
      "text/plain": [
       "array([  3,   4,   5,   5,   6,   8,   8,  17,  19,  21,  25,  25,  26,\n",
       "        28,  29,  30,  35,  36,  36,  38,  38,  46,  47,  49,  49,  51,\n",
       "        52,  53,  59,  62,  63,  65,  65,  70,  74,  84,  84,  87,  87,\n",
       "        88,  89,  91,  92,  93,  96,  98,  99, 102, 103, 103, 107, 110,\n",
       "       111, 112, 115, 119, 120, 122, 125, 127, 128, 132, 134, 134, 134,\n",
       "       135, 140, 141, 142, 142, 144, 144, 145, 146, 147, 151, 152, 160,\n",
       "       162, 163, 163, 163, 164, 165, 168, 170, 170, 171, 176, 177, 178,\n",
       "       179, 179, 179, 180, 181, 183, 184, 187, 190])"
      ]
     },
     "execution_count": 35,
     "metadata": {},
     "output_type": "execute_result"
    }
   ],
   "source": [
    "arr"
   ]
  },
  {
   "cell_type": "code",
   "execution_count": 36,
   "id": "7ff3da06-cf0b-4754-8694-0a6be5cb0b4e",
   "metadata": {},
   "outputs": [
    {
     "data": {
      "text/plain": [
       "array([190, 187, 184, 183, 181, 180, 179, 179, 179, 178, 177, 176, 171,\n",
       "       170, 170, 168, 165, 164, 163, 163, 163, 162, 160, 152, 151, 147,\n",
       "       146, 145, 144, 144, 142, 142, 141, 140, 135, 134, 134, 134, 132,\n",
       "       128, 127, 125, 122, 120, 119, 115, 112, 111, 110, 107, 103, 103,\n",
       "       102,  99,  98,  96,  93,  92,  91,  89,  88,  87,  87,  84,  84,\n",
       "        74,  70,  65,  65,  63,  62,  59,  53,  52,  51,  49,  49,  47,\n",
       "        46,  38,  38,  36,  36,  35,  30,  29,  28,  26,  25,  25,  21,\n",
       "        19,  17,   8,   8,   6,   5,   5,   4,   3])"
      ]
     },
     "execution_count": 36,
     "metadata": {},
     "output_type": "execute_result"
    }
   ],
   "source": [
    "arr[::-1]"
   ]
  },
  {
   "cell_type": "code",
   "execution_count": 37,
   "id": "5d60cc43-c2a2-4a43-bb37-81a9bda0bd5a",
   "metadata": {},
   "outputs": [],
   "source": [
    "import random"
   ]
  },
  {
   "cell_type": "code",
   "execution_count": 38,
   "id": "74ee9f14-6a21-46c0-8a28-1a34e9d2d20e",
   "metadata": {},
   "outputs": [
    {
     "data": {
      "text/plain": [
       "5"
      ]
     },
     "execution_count": 38,
     "metadata": {},
     "output_type": "execute_result"
    }
   ],
   "source": [
    "random.randint(5,9)"
   ]
  },
  {
   "cell_type": "code",
   "execution_count": 39,
   "id": "0103078a-1374-4d92-89d7-3cb64c3097ee",
   "metadata": {},
   "outputs": [
    {
     "data": {
      "text/plain": [
       "0.7084741039863831"
      ]
     },
     "execution_count": 39,
     "metadata": {},
     "output_type": "execute_result"
    }
   ],
   "source": [
    "random.random()"
   ]
  },
  {
   "cell_type": "code",
   "execution_count": 41,
   "id": "e032540a-23c6-42f3-a6d3-fad7ce794c3a",
   "metadata": {},
   "outputs": [
    {
     "data": {
      "text/plain": [
       "9"
      ]
     },
     "execution_count": 41,
     "metadata": {},
     "output_type": "execute_result"
    }
   ],
   "source": [
    "ls = [2,4,6,8,9]\n",
    "random.choice(ls)"
   ]
  },
  {
   "cell_type": "code",
   "execution_count": 42,
   "id": "7043286c-cefe-4680-832e-3c31956159d7",
   "metadata": {},
   "outputs": [
    {
     "data": {
      "text/plain": [
       "[4, 2]"
      ]
     },
     "execution_count": 42,
     "metadata": {},
     "output_type": "execute_result"
    }
   ],
   "source": [
    "random.choices(ls,k=2)"
   ]
  },
  {
   "cell_type": "code",
   "execution_count": null,
   "id": "892c6e81-b56c-4d26-af9e-4208ec25b3a3",
   "metadata": {},
   "outputs": [],
   "source": [
    "# time datetime"
   ]
  },
  {
   "cell_type": "code",
   "execution_count": 43,
   "id": "fa16683b-f5dd-42fa-92f8-b32689ba76ee",
   "metadata": {},
   "outputs": [],
   "source": [
    "import time"
   ]
  },
  {
   "cell_type": "code",
   "execution_count": 44,
   "id": "13530ca7-1059-4227-98cc-2db1990aef0a",
   "metadata": {},
   "outputs": [
    {
     "data": {
      "text/plain": [
       "time.struct_time(tm_year=2024, tm_mon=6, tm_mday=16, tm_hour=0, tm_min=16, tm_sec=3, tm_wday=6, tm_yday=168, tm_isdst=0)"
      ]
     },
     "execution_count": 44,
     "metadata": {},
     "output_type": "execute_result"
    }
   ],
   "source": [
    "time.localtime()"
   ]
  },
  {
   "cell_type": "code",
   "execution_count": null,
   "id": "d71139d9-d56a-40e2-a8bb-2725420ea579",
   "metadata": {},
   "outputs": [],
   "source": []
  }
 ],
 "metadata": {
  "kernelspec": {
   "display_name": "Python 3 (ipykernel)",
   "language": "python",
   "name": "python3"
  },
  "language_info": {
   "codemirror_mode": {
    "name": "ipython",
    "version": 3
   },
   "file_extension": ".py",
   "mimetype": "text/x-python",
   "name": "python",
   "nbconvert_exporter": "python",
   "pygments_lexer": "ipython3",
   "version": "3.12.3"
  }
 },
 "nbformat": 4,
 "nbformat_minor": 5
}
