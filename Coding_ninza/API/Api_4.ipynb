{
 "cells": [
  {
   "cell_type": "code",
   "execution_count": 2,
   "id": "48d0da59-c57f-40e0-b787-7cd0de043b5c",
   "metadata": {},
   "outputs": [
    {
     "name": "stdout",
     "output_type": "stream",
     "text": [
      "401\n"
     ]
    }
   ],
   "source": [
    "import requests\n",
    "from requests.auth import HTTPBasicAuth\n",
    "a = requests.get('https://api.github.com/user',auth = HTTPBasicAuth('nidhi@codingninjas.in','cnninjas123'))\n",
    "print(a.status_code)"
   ]
  },
  {
   "cell_type": "code",
   "execution_count": 3,
   "id": "6ddf1907-47d4-4a4f-a670-7a92c6b57b13",
   "metadata": {},
   "outputs": [
    {
     "name": "stdout",
     "output_type": "stream",
     "text": [
      "401\n"
     ]
    }
   ],
   "source": [
    "a = requests.get('https://api.github.com/user',auth = HTTPBasicAuth('nidhi@codingninjas.in','cnninjas123'))\n",
    "print(a.status_code)"
   ]
  },
  {
   "cell_type": "code",
   "execution_count": null,
   "id": "b8581b53-38d2-4c9b-a89c-f782e4a61fff",
   "metadata": {},
   "outputs": [],
   "source": [
    "import json\n",
    "info = {'name' : 'test_repo' , 'description' : 'created via api call', 'auto_init' : 'true'}\n",
    "a = requests.post('https://api.github.com/user/repos',auth = HTTPBasicAuth('nidhi@codingninjas.in','cnninjas123'),data = json.dumps(info))"
   ]
  }
 ],
 "metadata": {
  "kernelspec": {
   "display_name": "Python 3 (ipykernel)",
   "language": "python",
   "name": "python3"
  },
  "language_info": {
   "codemirror_mode": {
    "name": "ipython",
    "version": 3
   },
   "file_extension": ".py",
   "mimetype": "text/x-python",
   "name": "python",
   "nbconvert_exporter": "python",
   "pygments_lexer": "ipython3",
   "version": "3.12.3"
  }
 },
 "nbformat": 4,
 "nbformat_minor": 5
}
