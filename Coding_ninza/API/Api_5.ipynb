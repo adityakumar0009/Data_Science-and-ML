{
 "cells": [
  {
   "cell_type": "code",
   "execution_count": null,
   "id": "101b37e0-d1b0-4229-b06f-80e375157604",
   "metadata": {},
   "outputs": [],
   "source": [
    "##client_id : _HsQBNhE-KichSaLMXsfNg\n",
    "##client_secret : _Wt_CiyToPBM7xg4mnJWA_1ENl3_QA"
   ]
  },
  {
   "cell_type": "code",
   "execution_count": 2,
   "id": "b0b64bba-29d2-4573-a196-9d580169a7ce",
   "metadata": {},
   "outputs": [
    {
     "name": "stdout",
     "output_type": "stream",
     "text": [
      "https://www.reddit.com/login/?dest=https%3A%2F%2Fwww.reddit.com%2Fapi%2Fv1%2Fauthorize%3Fclient_id%3D_HsQBNhE-KichSaLMXsfNg%26response_type%3Dcode%26state%3Drandom123%26redirect_uri%3Dhttps%253A%252F%252Fwww.google.com%252F%26scope%3Dread&rdt=51663\n"
     ]
    }
   ],
   "source": [
    "import requests\n",
    "import json\n",
    "data = {'client_id' : '_HsQBNhE-KichSaLMXsfNg','response_type':'code' , 'state' : 'random123', 'redirect_uri' : 'https://www.google.com/','scope' : 'read'}\n",
    "response = requests.get('https://www.reddit.com/api/v1/authorize',params=data)\n",
    "print(response.url)"
   ]
  },
  {
   "cell_type": "code",
   "execution_count": 3,
   "id": "259f16b5-9d52-4705-9392-d3b1d77977e8",
   "metadata": {},
   "outputs": [],
   "source": [
    "# code=C_iAkskaMkPUdv9qepU96QXKD9toJQ#_"
   ]
  },
  {
   "cell_type": "code",
   "execution_count": 6,
   "id": "6da421d1-0663-4c5f-a1ee-e8b580ceaf38",
   "metadata": {},
   "outputs": [
    {
     "name": "stdout",
     "output_type": "stream",
     "text": [
      "{\"message\": \"Bad Request\", \"error\": 400}\n"
     ]
    }
   ],
   "source": [
    "data = {'grant_type' : 'authorization_code', 'code' : 'C_iAkskaMkPUdv9qepU96QXKD9toJQ#_', 'redirect_uri' : 'https://www.google.com/'}\n",
    "r = requests.post('https://www.reddit.com/api/v1/access_token',data=data,auth=('_HsQBNhE-KichSaLMXsfNg','_Wt_CiyToPBM7xg4mnJWA_1ENl3_QA'),\n",
    "                  headers={'User-Agent' : 'adi_sinha'})\n",
    "print(r.text)"
   ]
  },
  {
   "cell_type": "code",
   "execution_count": null,
   "id": "701257e9-3e58-488a-a097-94962d08277a",
   "metadata": {},
   "outputs": [],
   "source": [
    "# h = {'User-agent' : 'adi_sinha' , Authorization: bearer }\n",
    "# r = requests.get('https://oauth.reddit.com')"
   ]
  }
 ],
 "metadata": {
  "kernelspec": {
   "display_name": "Python 3 (ipykernel)",
   "language": "python",
   "name": "python3"
  },
  "language_info": {
   "codemirror_mode": {
    "name": "ipython",
    "version": 3
   },
   "file_extension": ".py",
   "mimetype": "text/x-python",
   "name": "python",
   "nbconvert_exporter": "python",
   "pygments_lexer": "ipython3",
   "version": "3.12.3"
  }
 },
 "nbformat": 4,
 "nbformat_minor": 5
}
