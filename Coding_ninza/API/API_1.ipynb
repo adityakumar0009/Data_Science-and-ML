{
 "cells": [
  {
   "cell_type": "code",
   "execution_count": 2,
   "id": "eaa7e5f4-7b50-4674-9b13-0306790fd825",
   "metadata": {},
   "outputs": [],
   "source": [
    "import requests"
   ]
  },
  {
   "cell_type": "code",
   "execution_count": 3,
   "id": "68b5ef5c-fad9-4776-87d6-7149dd717251",
   "metadata": {},
   "outputs": [
    {
     "name": "stdout",
     "output_type": "stream",
     "text": [
      "200\n",
      "ISO-8859-1\n",
      "https://www.codingninjas.com:443/api/v3/courses\n",
      "{'Content-Type': 'text/html', 'Transfer-Encoding': 'chunked', 'Connection': 'keep-alive', 'x-amz-id-2': 'fYFwNaZNCHVG3HwDSQPXpv9AXBnvb3pjNxl8ziSVIvIB+BBmhzBXOyPL+m+dqrL2FIrf3EVpyOw=', 'x-amz-request-id': 'NE6E0EP7KNB02YBH', 'Last-Modified': 'Fri, 03 Jan 2025 13:31:54 GMT', 'Server': 'AmazonS3', 'Content-Encoding': 'gzip', 'Date': 'Mon, 06 Jan 2025 18:05:35 GMT', 'Cache-Control': 'must-revalidate, max-age=300', 'ETag': 'W/\"5e0dba62e451e7ec907d9ffcc1b8e66e\"', 'Vary': 'Accept-Encoding', 'X-Cache': 'Hit from cloudfront', 'Via': '1.1 fe9f9e6d9fa2db978534f7ec4b158154.cloudfront.net (CloudFront)', 'X-Amz-Cf-Pop': 'BOM54-P2', 'Alt-Svc': 'h3=\":443\"; ma=86400', 'X-Amz-Cf-Id': '1pXrqcGrReAS5es9X19nS1Q6xIbVZo1z4XRtwoPw_pwTTN5SYdsEjA==', 'Age': '92'}\n",
      "<class 'requests.structures.CaseInsensitiveDict'>\n",
      "Mon, 06 Jan 2025 18:05:35 GMT\n",
      "text/html\n"
     ]
    }
   ],
   "source": [
    "response = requests.get(\"https://codingninjas.in/api/v3/courses\")\n",
    "print(response.status_code)\n",
    "print(response.encoding)\n",
    "# print(response.text)\n",
    "print(response.url)\n",
    "print(response.headers)\n",
    "print(type(response.headers))\n",
    "header_info = response.headers\n",
    "print(header_info['Date'])\n",
    "# print(header_info['content-Length'])\n",
    "print(header_info['content-type'])"
   ]
  },
  {
   "cell_type": "code",
   "execution_count": 6,
   "id": "a5bc9c99-39c1-4cc4-8260-da83ea4ee4ba",
   "metadata": {},
   "outputs": [
    {
     "name": "stdout",
     "output_type": "stream",
     "text": [
      "{'student': 'mohit'}\n",
      "<class 'dict'>\n",
      "mohit\n"
     ]
    }
   ],
   "source": [
    "import json\n",
    "json_data = '{\"student\" : \"mohit\"}'\n",
    "python_data = json.loads(json_data)\n",
    "print(python_data)\n",
    "print(type(python_data))\n",
    "print(python_data['student'])"
   ]
  },
  {
   "cell_type": "code",
   "execution_count": 8,
   "id": "4d60b281-3b9e-4955-853c-e8c4c010a002",
   "metadata": {},
   "outputs": [
    {
     "name": "stdout",
     "output_type": "stream",
     "text": [
      "{'roll_number': 101}\n",
      "101\n",
      "<class 'int'>\n",
      "<class 'dict'>\n"
     ]
    }
   ],
   "source": [
    "json_data = '{\"roll_number\" : 101}'\n",
    "python_data = json.loads(json_data)\n",
    "print(python_data)\n",
    "print(python_data['roll_number'])\n",
    "print(type(python_data['roll_number']))\n",
    "print(type(python_data))"
   ]
  },
  {
   "cell_type": "code",
   "execution_count": 10,
   "id": "203087b1-47d5-45ab-bfd2-609de3d052f1",
   "metadata": {},
   "outputs": [
    {
     "name": "stdout",
     "output_type": "stream",
     "text": [
      "{'roll_number': None}\n",
      "None\n",
      "<class 'NoneType'>\n",
      "<class 'dict'>\n"
     ]
    }
   ],
   "source": [
    "json_data = '{\"roll_number\" : null}'\n",
    "python_data = json.loads(json_data)\n",
    "print(python_data)\n",
    "print(python_data['roll_number'])\n",
    "print(type(python_data['roll_number']))\n",
    "print(type(python_data))"
   ]
  },
  {
   "cell_type": "code",
   "execution_count": 14,
   "id": "d63c74bf-4395-4dca-acd1-e559ab74adb1",
   "metadata": {},
   "outputs": [
    {
     "name": "stdout",
     "output_type": "stream",
     "text": [
      "aditya\n",
      "101\n"
     ]
    }
   ],
   "source": [
    "json_data = '{\"student\" : {\"name\" : \"aditya\",\"roll_no\" : 101}}'\n",
    "python_data = json.loads(json_data)\n",
    "students_details = python_data['student']\n",
    "print(students_details['name'])\n",
    "print(students_details['roll_no'])"
   ]
  },
  {
   "cell_type": "code",
   "execution_count": 20,
   "id": "ead236b3-5e83-46f3-82e8-db550e3a1cbb",
   "metadata": {},
   "outputs": [
    {
     "name": "stdout",
     "output_type": "stream",
     "text": [
      "<class 'dict'>\n",
      "['apple', 'banana', 'papaya', 'orange']\n",
      "<class 'list'>\n",
      "4\n"
     ]
    }
   ],
   "source": [
    "json_data = '{\"fruits\" : [\"apple\",\"banana\",\"papaya\",\"orange\"]}'\n",
    "python_data = json.loads(json_data)\n",
    "print(type(python_data))\n",
    "print(python_data[\"fruits\"])\n",
    "print(type(python_data[\"fruits\"]))\n",
    "print(len(python_data[\"fruits\"]))"
   ]
  },
  {
   "cell_type": "code",
   "execution_count": null,
   "id": "dcda9b91-3b5f-45f8-8011-2169dcc193fa",
   "metadata": {},
   "outputs": [],
   "source": []
  }
 ],
 "metadata": {
  "kernelspec": {
   "display_name": "Python 3 (ipykernel)",
   "language": "python",
   "name": "python3"
  },
  "language_info": {
   "codemirror_mode": {
    "name": "ipython",
    "version": 3
   },
   "file_extension": ".py",
   "mimetype": "text/x-python",
   "name": "python",
   "nbconvert_exporter": "python",
   "pygments_lexer": "ipython3",
   "version": "3.12.3"
  }
 },
 "nbformat": 4,
 "nbformat_minor": 5
}
