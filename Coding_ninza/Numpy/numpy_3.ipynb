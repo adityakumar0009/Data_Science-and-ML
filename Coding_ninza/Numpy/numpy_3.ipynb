{
 "cells": [
  {
   "cell_type": "code",
   "execution_count": 19,
   "id": "015e8bc5-5c2a-41e7-b27e-b403c8bbeb2e",
   "metadata": {},
   "outputs": [
    {
     "name": "stdout",
     "output_type": "stream",
     "text": [
      "[1, 2, 3, 4, 5]\n",
      "[1 2 3 4 5]\n"
     ]
    }
   ],
   "source": [
    "import numpy as np\n",
    "li = [1,2,3,4,5]\n",
    "arr = np.array(li)\n",
    "print(li)\n",
    "print(arr)"
   ]
  },
  {
   "cell_type": "code",
   "execution_count": 20,
   "id": "bc80342d-2fd6-43ad-ba3c-20103adbe5ac",
   "metadata": {},
   "outputs": [
    {
     "name": "stdout",
     "output_type": "stream",
     "text": [
      "4\n",
      "[2, 3, 4]\n",
      "5\n",
      "4\n"
     ]
    }
   ],
   "source": [
    "print(li[3])\n",
    "print(li[1:4])\n",
    "print(li[4])\n",
    "print(arr[3])"
   ]
  },
  {
   "cell_type": "code",
   "execution_count": 21,
   "id": "9c9584a5-4261-4f6e-abc7-2e0f9c901b54",
   "metadata": {},
   "outputs": [
    {
     "name": "stdout",
     "output_type": "stream",
     "text": [
      "<memory at 0x000001BDC624EB00>\n",
      "(5,)\n",
      "int32\n",
      "(4,)\n"
     ]
    }
   ],
   "source": [
    "print(arr.data)\n",
    "print(arr.shape)\n",
    "print(arr.dtype)\n",
    "print(arr.strides)"
   ]
  },
  {
   "cell_type": "code",
   "execution_count": 22,
   "id": "596d9438-0244-4591-a034-6ec2aee4f3d6",
   "metadata": {},
   "outputs": [
    {
     "name": "stdout",
     "output_type": "stream",
     "text": [
      "[[1, 2, 3, 4], [5, 6, 7, 8], [9, 10, 11, 12], [13, 14, 15, 16]]\n",
      "[[ 1  2  3  4]\n",
      " [ 5  6  7  8]\n",
      " [ 9 10 11 12]\n",
      " [13 14 15 16]]\n"
     ]
    }
   ],
   "source": [
    "lid_2 = [[1,2,3,4],[5,6,7,8],[9,10,11,12],[13,14,15,16]]\n",
    "arr_2d = np.array(lid_2)\n",
    "print(lid_2)\n",
    "print(arr_2d)"
   ]
  },
  {
   "cell_type": "code",
   "execution_count": 23,
   "id": "2b100f1d-7380-4d20-a678-7675367ab800",
   "metadata": {},
   "outputs": [
    {
     "name": "stdout",
     "output_type": "stream",
     "text": [
      "<memory at 0x000001BDC676FE00>\n",
      "(4, 4)\n",
      "int32\n",
      "(16, 4)\n"
     ]
    }
   ],
   "source": [
    "print(arr_2d.data)\n",
    "print(arr_2d.shape)\n",
    "print(arr_2d.dtype)\n",
    "print(arr_2d.strides)"
   ]
  },
  {
   "cell_type": "code",
   "execution_count": 24,
   "id": "cbcf02b3-2a86-4343-b7c9-8db75d23741c",
   "metadata": {},
   "outputs": [
    {
     "name": "stdout",
     "output_type": "stream",
     "text": [
      "11\n",
      "11\n"
     ]
    }
   ],
   "source": [
    "print(lid_2[2][2])\n",
    "print(arr_2d[2][2])"
   ]
  },
  {
   "cell_type": "code",
   "execution_count": 25,
   "id": "cc9bff04-3e0d-4f7a-83c0-244b1fcee59a",
   "metadata": {},
   "outputs": [
    {
     "name": "stdout",
     "output_type": "stream",
     "text": [
      "[5, 6, 7, 8]\n",
      "[5 6 7 8]\n"
     ]
    }
   ],
   "source": [
    "print(lid_2[1][0:4])\n",
    "print(arr_2d[1][0:4])"
   ]
  },
  {
   "cell_type": "code",
   "execution_count": 26,
   "id": "b0b29a43-a6d8-4037-989f-d36652d4e6f6",
   "metadata": {},
   "outputs": [
    {
     "name": "stdout",
     "output_type": "stream",
     "text": [
      "[[1, 2, 3, 4], [5, 6, 7, 8], [9, 10, 11, 12]]\n"
     ]
    },
    {
     "data": {
      "text/plain": [
       "[9, 10, 11, 12]"
      ]
     },
     "execution_count": 26,
     "metadata": {},
     "output_type": "execute_result"
    }
   ],
   "source": [
    "x = lid_2[0:3]\n",
    "print(x)\n",
    "y = x[2]\n",
    "y"
   ]
  },
  {
   "cell_type": "code",
   "execution_count": 27,
   "id": "825926ab-9417-4e1d-bb79-5a97b5cec1c4",
   "metadata": {},
   "outputs": [
    {
     "name": "stdout",
     "output_type": "stream",
     "text": [
      "[[1, 2, 3, 4, 5], [6, 7, 8, 9, 10], [11, 12, 13, 14, 15], [16, 17, 18, 19, 20]]\n",
      "[[ 1  2  3  4  5]\n",
      " [ 6  7  8  9 10]\n",
      " [11 12 13 14 15]\n",
      " [16 17 18 19 20]]\n"
     ]
    }
   ],
   "source": [
    "lid_3 = [[1,2,3,4,5],[6,7,8,9,10],[11,12,13,14,15],[16,17,18,19,20]]\n",
    "arr_3d = np.array(lid_3)\n",
    "print(lid_3)\n",
    "print(arr_3d)"
   ]
  },
  {
   "cell_type": "code",
   "execution_count": 35,
   "id": "3b1a234f-50dd-4a87-ae3f-81709eb80fbe",
   "metadata": {},
   "outputs": [
    {
     "name": "stdout",
     "output_type": "stream",
     "text": [
      "[11 12 13]\n",
      "[ 9 14 19]\n",
      "[[11 12 13 14 15]\n",
      " [16 17 18 19 20]]\n",
      "[[ 7  8]\n",
      " [12 13]\n",
      " [17 18]]\n"
     ]
    }
   ],
   "source": [
    "print(arr_3d[2,0:3])\n",
    "print(arr_3d[1:4,3])\n",
    "print(arr_3d[2:4][0:4])\n",
    "print(arr_3d[1:4,1:3])"
   ]
  },
  {
   "cell_type": "raw",
   "id": "2f84ff32-80f6-4b35-bcf9-a46e1d762a1e",
   "metadata": {},
   "source": [
    "array = [1,2,0,0,4,0]\n",
    "print(np.where(0))"
   ]
  },
  {
   "cell_type": "code",
   "execution_count": null,
   "id": "3e1f735b-a490-498e-87a6-46227c616535",
   "metadata": {},
   "outputs": [],
   "source": []
  }
 ],
 "metadata": {
  "kernelspec": {
   "display_name": "Python 3 (ipykernel)",
   "language": "python",
   "name": "python3"
  },
  "language_info": {
   "codemirror_mode": {
    "name": "ipython",
    "version": 3
   },
   "file_extension": ".py",
   "mimetype": "text/x-python",
   "name": "python",
   "nbconvert_exporter": "python",
   "pygments_lexer": "ipython3",
   "version": "3.12.3"
  }
 },
 "nbformat": 4,
 "nbformat_minor": 5
}
