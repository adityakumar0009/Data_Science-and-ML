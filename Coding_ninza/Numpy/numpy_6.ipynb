{
 "cells": [
  {
   "cell_type": "code",
   "execution_count": 20,
   "id": "46a85833-65fe-4648-b8ee-be6d4e19cec1",
   "metadata": {},
   "outputs": [],
   "source": [
    "import numpy as np"
   ]
  },
  {
   "cell_type": "code",
   "execution_count": 21,
   "id": "6c334b17-38ff-4b2f-a0b0-bc91830e0496",
   "metadata": {},
   "outputs": [
    {
     "data": {
      "text/plain": [
       "array([[17, 21, 29, 13, 28, 20],\n",
       "       [26,  3, 12,  6,  2,  8],\n",
       "       [24, 18, 17,  9, 12, 20],\n",
       "       [12, 17, 17, 23, 11, 11],\n",
       "       [25,  6, 10, 22,  7, 15]])"
      ]
     },
     "execution_count": 21,
     "metadata": {},
     "output_type": "execute_result"
    }
   ],
   "source": [
    "a = np.random.randint(1,30,(5,6))\n",
    "a"
   ]
  },
  {
   "cell_type": "code",
   "execution_count": 22,
   "id": "dbf19cb9-bb15-464e-9a08-2ce1829b6e2c",
   "metadata": {},
   "outputs": [
    {
     "name": "stdout",
     "output_type": "stream",
     "text": [
      "[[False  True  True False  True False]\n",
      " [ True False False False False False]\n",
      " [ True False False False False False]\n",
      " [False False False  True False False]\n",
      " [ True False False  True False False]]\n"
     ]
    }
   ],
   "source": [
    "bool_Arr = a>20\n",
    "print(bool_Arr)"
   ]
  },
  {
   "cell_type": "code",
   "execution_count": 23,
   "id": "561c5930-14d6-467a-b5d0-f7ff19b3d805",
   "metadata": {},
   "outputs": [
    {
     "name": "stdout",
     "output_type": "stream",
     "text": [
      "[21 29 28 26 24 23 25 22]\n"
     ]
    }
   ],
   "source": [
    "arr = a[bool_Arr]\n",
    "print(arr)"
   ]
  },
  {
   "cell_type": "code",
   "execution_count": 24,
   "id": "b9e91ccb-a4e7-4e9a-9b0b-e7765622d18f",
   "metadata": {},
   "outputs": [
    {
     "name": "stdout",
     "output_type": "stream",
     "text": [
      "[[17 21 29 13 28 20]\n",
      " [26  3 12  6  2  8]\n",
      " [24 18 17  9 12 20]\n",
      " [12 17 17 23 11 11]\n",
      " [25  6 10 22  7 15]]\n"
     ]
    }
   ],
   "source": [
    "b = a\n",
    "print(a)"
   ]
  },
  {
   "cell_type": "code",
   "execution_count": 25,
   "id": "c59f6aa6-f4d5-4240-9739-12de5f989b6f",
   "metadata": {},
   "outputs": [
    {
     "name": "stdout",
     "output_type": "stream",
     "text": [
      "[[17 21 29 13 28 20]\n",
      " [26  3 12  6  2  8]\n",
      " [24 18 17  9 12 20]\n",
      " [12 17 17 23 11 11]\n",
      " [25  6 10 22  7 15]]\n"
     ]
    }
   ],
   "source": [
    "b[bool_Arr]==100\n",
    "print(b)"
   ]
  },
  {
   "cell_type": "code",
   "execution_count": 26,
   "id": "d9fdd4b4-9b0d-4b90-bd04-0710eb4fee91",
   "metadata": {},
   "outputs": [
    {
     "name": "stdout",
     "output_type": "stream",
     "text": [
      "[[5 5]\n",
      " [9 2]]\n"
     ]
    }
   ],
   "source": [
    "c = np.random.randint(1,10,(2,2))\n",
    "print(c)"
   ]
  },
  {
   "cell_type": "code",
   "execution_count": 27,
   "id": "4aa3abfd-998a-474e-a9c9-0b49de4e9bf6",
   "metadata": {},
   "outputs": [
    {
     "name": "stdout",
     "output_type": "stream",
     "text": [
      "[[ True False]\n",
      " [False  True]\n",
      " [ True  True]]\n"
     ]
    }
   ],
   "source": [
    "c_bool = np.array([[True,False],[False,True],[True,True]])\n",
    "print(c_bool)"
   ]
  },
  {
   "cell_type": "code",
   "execution_count": 28,
   "id": "15d95fd9-5452-4c3d-b327-c2a936c9a6f4",
   "metadata": {},
   "outputs": [],
   "source": [
    "# print(c[c_bool])"
   ]
  },
  {
   "cell_type": "code",
   "execution_count": 29,
   "id": "49348ac5-9d1a-43c7-a40d-73ce48541446",
   "metadata": {},
   "outputs": [
    {
     "name": "stdout",
     "output_type": "stream",
     "text": [
      "[[17 21 29 13 28 20]\n",
      " [26  3 12  6  2  8]\n",
      " [24 18 17  9 12 20]\n",
      " [12 17 17 23 11 11]\n",
      " [25  6 10 22  7 15]]\n"
     ]
    }
   ],
   "source": [
    "print(b)"
   ]
  },
  {
   "cell_type": "code",
   "execution_count": 33,
   "id": "dc9d21b0-c3d6-4f09-84ef-22ce2010386d",
   "metadata": {},
   "outputs": [
    {
     "name": "stdout",
     "output_type": "stream",
     "text": [
      "[False False False  True False]\n"
     ]
    }
   ],
   "source": [
    "bool_Arr = b[:,3] == 23\n",
    "print(bool_Arr)\n"
   ]
  },
  {
   "cell_type": "code",
   "execution_count": 34,
   "id": "742e1ff4-2356-4916-9466-2035a38dae55",
   "metadata": {},
   "outputs": [
    {
     "name": "stdout",
     "output_type": "stream",
     "text": [
      "[[17 21 29 13 28 20]\n",
      " [26  3 12  6  2  8]\n",
      " [24 18 17  9 12 20]\n",
      " [12 17 17 99 11 11]\n",
      " [25  6 10 22  7 15]]\n"
     ]
    }
   ],
   "source": [
    "b[bool_Arr,3] = 99\n",
    "print(b)"
   ]
  },
  {
   "cell_type": "code",
   "execution_count": null,
   "id": "9bbd949e-9640-4774-af79-b4c5d3f151e3",
   "metadata": {},
   "outputs": [],
   "source": []
  }
 ],
 "metadata": {
  "kernelspec": {
   "display_name": "Python 3 (ipykernel)",
   "language": "python",
   "name": "python3"
  },
  "language_info": {
   "codemirror_mode": {
    "name": "ipython",
    "version": 3
   },
   "file_extension": ".py",
   "mimetype": "text/x-python",
   "name": "python",
   "nbconvert_exporter": "python",
   "pygments_lexer": "ipython3",
   "version": "3.12.3"
  }
 },
 "nbformat": 4,
 "nbformat_minor": 5
}
