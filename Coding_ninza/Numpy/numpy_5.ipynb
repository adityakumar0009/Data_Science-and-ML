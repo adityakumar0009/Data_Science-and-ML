{
 "cells": [
  {
   "cell_type": "code",
   "execution_count": 1,
   "id": "67f50633-b169-431e-938b-ddf06c1d2b22",
   "metadata": {},
   "outputs": [],
   "source": [
    "import numpy as np"
   ]
  },
  {
   "cell_type": "code",
   "execution_count": 2,
   "id": "b13e94d1-0ab7-47bb-bff8-6771c8d09ca4",
   "metadata": {},
   "outputs": [
    {
     "name": "stdout",
     "output_type": "stream",
     "text": [
      "['t' 'b' 'r' 'd' 'e' 'f' 'z' 'a']\n",
      "[15 15 13 12  7  2  1  7]\n"
     ]
    }
   ],
   "source": [
    "a = np.array(['t','b','r','d','e','f','z','a'])\n",
    "b = np.random.randint(1,20,8)\n",
    "print(a)\n",
    "print(b)"
   ]
  },
  {
   "cell_type": "code",
   "execution_count": 3,
   "id": "5871b182-63d7-41b6-9ff6-d2aec194cff6",
   "metadata": {},
   "outputs": [
    {
     "name": "stdout",
     "output_type": "stream",
     "text": [
      "[ True  True  True  True False False False False]\n"
     ]
    }
   ],
   "source": [
    "print(b>10)"
   ]
  },
  {
   "cell_type": "code",
   "execution_count": 4,
   "id": "564ffb7c-1850-4e64-8f06-85dad6a097fb",
   "metadata": {},
   "outputs": [
    {
     "name": "stdout",
     "output_type": "stream",
     "text": [
      "[ True  True  True  True False False False False]\n",
      "[15 15 13 12]\n"
     ]
    }
   ],
   "source": [
    "bool_Arr = b>10\n",
    "print(bool_Arr)\n",
    "new_Arr = b[bool_Arr]\n",
    "print(new_Arr)"
   ]
  },
  {
   "cell_type": "code",
   "execution_count": 5,
   "id": "0f51fe58-8d62-4bb8-b1a8-e69ab60f2120",
   "metadata": {},
   "outputs": [
    {
     "data": {
      "text/plain": [
       "array([13, 12])"
      ]
     },
     "execution_count": 5,
     "metadata": {},
     "output_type": "execute_result"
    }
   ],
   "source": [
    "new_Arr = b[(b>10) & (b<15)]\n",
    "new_Arr"
   ]
  },
  {
   "cell_type": "code",
   "execution_count": 6,
   "id": "bb45bcba-cd15-43c6-9f40-afa5b1bf5447",
   "metadata": {},
   "outputs": [
    {
     "name": "stdout",
     "output_type": "stream",
     "text": [
      "[15 15 13 12  7  2  1  7]\n"
     ]
    }
   ],
   "source": [
    "print(b)"
   ]
  },
  {
   "cell_type": "code",
   "execution_count": 7,
   "id": "6172f1e2-c6ba-4225-a505-92079a8622ca",
   "metadata": {},
   "outputs": [
    {
     "data": {
      "text/plain": [
       "array([15, 15, 13, 12])"
      ]
     },
     "execution_count": 7,
     "metadata": {},
     "output_type": "execute_result"
    }
   ],
   "source": [
    "new_Arr = b[(b>10)&(b<19)]\n",
    "new_Arr"
   ]
  },
  {
   "cell_type": "code",
   "execution_count": 8,
   "id": "e05d08c4-499c-4c13-bad6-a00d9391859c",
   "metadata": {},
   "outputs": [],
   "source": [
    "c=b"
   ]
  },
  {
   "cell_type": "code",
   "execution_count": 9,
   "id": "7f1b7783-72d0-4f61-9be1-b0773857f6b0",
   "metadata": {},
   "outputs": [
    {
     "name": "stdout",
     "output_type": "stream",
     "text": [
      "[15 15 13 12  7  2  1  7]\n"
     ]
    }
   ],
   "source": [
    "print(c)"
   ]
  },
  {
   "cell_type": "code",
   "execution_count": 10,
   "id": "15ff7c98-3b57-4d1b-ae59-c91868806bc6",
   "metadata": {},
   "outputs": [
    {
     "data": {
      "text/plain": [
       "array([100, 100, 100,  12,   7,   2,   1,   7])"
      ]
     },
     "execution_count": 10,
     "metadata": {},
     "output_type": "execute_result"
    }
   ],
   "source": [
    "c[c>12] = 100\n",
    "c"
   ]
  },
  {
   "cell_type": "code",
   "execution_count": 11,
   "id": "88d077c8-dcef-4273-9130-d828463c119a",
   "metadata": {},
   "outputs": [
    {
     "name": "stdout",
     "output_type": "stream",
     "text": [
      "[100 100 100  12   7   2   1   7]\n"
     ]
    }
   ],
   "source": [
    "print(b)"
   ]
  },
  {
   "cell_type": "code",
   "execution_count": 12,
   "id": "503a056b-e234-4194-8271-ff02c764b4f7",
   "metadata": {},
   "outputs": [
    {
     "name": "stdout",
     "output_type": "stream",
     "text": [
      "[100 100 100]\n"
     ]
    }
   ],
   "source": [
    "print(b[b==100])"
   ]
  },
  {
   "cell_type": "code",
   "execution_count": 13,
   "id": "3dcb8050-9e20-4ca6-8bde-6119ad6c6c0b",
   "metadata": {},
   "outputs": [
    {
     "data": {
      "text/plain": [
       "(array([0, 1, 2], dtype=int64),)"
      ]
     },
     "execution_count": 13,
     "metadata": {},
     "output_type": "execute_result"
    }
   ],
   "source": [
    "inx = np.where(b==100)\n",
    "inx"
   ]
  },
  {
   "cell_type": "code",
   "execution_count": 16,
   "id": "6b021c7a-d82e-4e28-9f5d-fd9dbaff8b6f",
   "metadata": {},
   "outputs": [
    {
     "data": {
      "text/plain": [
       "(array([2, 3, 5], dtype=int64),)"
      ]
     },
     "execution_count": 16,
     "metadata": {},
     "output_type": "execute_result"
    }
   ],
   "source": [
    "Array = np.array([1,2,0,0,4,0])\n",
    "idx = np.where(Array==0)\n",
    "idx"
   ]
  },
  {
   "cell_type": "code",
   "execution_count": 17,
   "id": "cf50d508-a20a-4f3f-8639-703c381c0f15",
   "metadata": {},
   "outputs": [
    {
     "data": {
      "text/plain": [
       "(array([1, 4, 7], dtype=int64),)"
      ]
     },
     "execution_count": 17,
     "metadata": {},
     "output_type": "execute_result"
    }
   ],
   "source": [
    "Array_1 = np.array([1,3,5,7,9,11,13,15,17,19])\n",
    "idx_1 = np.where(Array_1%3==0)\n",
    "idx_1"
   ]
  },
  {
   "cell_type": "code",
   "execution_count": 20,
   "id": "0ed1448f-9f01-4345-bc30-e4a9070c0ff6",
   "metadata": {},
   "outputs": [
    {
     "name": "stdout",
     "output_type": "stream",
     "text": [
      "[-1  2 -1  4 -1  6 -1  8 -1 10]\n"
     ]
    }
   ],
   "source": [
    "Array_2 = np.array([1,2,3,4,5,6,7,8,9,10])\n",
    "Array_2[Array_2%2!=0] = -1\n",
    "print(Array_2)"
   ]
  },
  {
   "cell_type": "code",
   "execution_count": 27,
   "id": "06336531-ff91-491d-a8d9-c3937969f522",
   "metadata": {},
   "outputs": [
    {
     "name": "stdout",
     "output_type": "stream",
     "text": [
      "[11  2 13  4 15  6  0  8 19]\n"
     ]
    }
   ],
   "source": [
    "Array_3 = np.array([11,2,13,4,15,6,27,8,19])\n",
    "max_value = Array_3.max()\n",
    "Array_3[Array_3==max_value] = 0\n",
    "print(Array_3)"
   ]
  },
  {
   "cell_type": "code",
   "execution_count": 29,
   "id": "9b33654e-8e08-4bdd-9e0d-c40017edd053",
   "metadata": {},
   "outputs": [
    {
     "name": "stdout",
     "output_type": "stream",
     "text": [
      "[ 1  2 -1 -1 -1 -1 -1 -1  9 10]\n"
     ]
    }
   ],
   "source": [
    "Array_4 = np.array([1,2,3,4,5,6,7,8,9,10])\n",
    "Array_4[(Array_4>=3) & (Array_4<=8)] = -1\n",
    "print(Array_4)"
   ]
  },
  {
   "cell_type": "code",
   "execution_count": null,
   "id": "f17f290c-27d9-4b9c-8d3c-6533edd990b2",
   "metadata": {},
   "outputs": [],
   "source": [
    "Age = np.array([40,43,60,22,32,12,23,12,67,76])\n",
    "height = np.array([120,124,132,110,114,190,167,130,180,160])\n",
    "Age_Height = np.array([()])"
   ]
  }
 ],
 "metadata": {
  "kernelspec": {
   "display_name": "Python 3 (ipykernel)",
   "language": "python",
   "name": "python3"
  },
  "language_info": {
   "codemirror_mode": {
    "name": "ipython",
    "version": 3
   },
   "file_extension": ".py",
   "mimetype": "text/x-python",
   "name": "python",
   "nbconvert_exporter": "python",
   "pygments_lexer": "ipython3",
   "version": "3.12.3"
  }
 },
 "nbformat": 4,
 "nbformat_minor": 5
}
