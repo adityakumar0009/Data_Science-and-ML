{
 "cells": [
  {
   "cell_type": "code",
   "execution_count": 1,
   "id": "eb436b68-fcaa-4cd0-ab0b-66009743d308",
   "metadata": {},
   "outputs": [],
   "source": [
    "with open('SMSSpamCollection.txt','r') as file:\n",
    "    data = file.read()"
   ]
  },
  {
   "cell_type": "code",
   "execution_count": 2,
   "id": "67b6b708-ade5-4f3f-88c7-8964b5d3bd56",
   "metadata": {},
   "outputs": [],
   "source": [
    "# len(data)  # total emails "
   ]
  },
  {
   "cell_type": "code",
   "execution_count": 3,
   "id": "14d9b182-1682-4018-b45d-5b541aedd4b2",
   "metadata": {},
   "outputs": [],
   "source": [
    "# data.split('\\n')\n",
    "# [line1, line2, line3, line n] \n",
    "# data[1]"
   ]
  },
  {
   "cell_type": "code",
   "execution_count": 4,
   "id": "43ab828a-0737-4088-99f7-843fb34a07fd",
   "metadata": {},
   "outputs": [],
   "source": [
    "email_ls = data.split('\\n')\n",
    "# email_ls"
   ]
  },
  {
   "cell_type": "code",
   "execution_count": 5,
   "id": "5d022f85-bc31-4fe9-a333-84cef3602648",
   "metadata": {},
   "outputs": [],
   "source": [
    "# x = []\n",
    "# y = []\n",
    "# label_email = email_ls[1].split('\\t')\n",
    "# x.append(label_email[1])\n",
    "# y.append(label_email[0])"
   ]
  },
  {
   "cell_type": "code",
   "execution_count": 6,
   "id": "564028aa-8c12-4913-af85-5aba064e78d6",
   "metadata": {},
   "outputs": [],
   "source": [
    "x = [] \n",
    "y = [] \n",
    "for line in email_ls:\n",
    "    email_with_labels = line.split('\\t')\n",
    "    if len(email_with_labels) == 2:\n",
    "        x.append(email_with_labels[1])\n",
    "        y.append(email_with_labels[0])"
   ]
  },
  {
   "cell_type": "code",
   "execution_count": 7,
   "id": "8a6f0c40-e37b-4fe9-b0fa-d7f136d6a039",
   "metadata": {},
   "outputs": [
    {
     "data": {
      "text/plain": [
       "(5574, 5574)"
      ]
     },
     "execution_count": 7,
     "metadata": {},
     "output_type": "execute_result"
    }
   ],
   "source": [
    "len(x) , len(y)"
   ]
  },
  {
   "cell_type": "code",
   "execution_count": 8,
   "id": "5c22892f-84a0-42c5-9140-d4c362cb6dc8",
   "metadata": {},
   "outputs": [
    {
     "data": {
      "text/plain": [
       "\"I'm gonna be home soon and i don't want to talk about this stuff anymore tonight, k? I've cried enough today.\""
      ]
     },
     "execution_count": 8,
     "metadata": {},
     "output_type": "execute_result"
    }
   ],
   "source": [
    "x[10]"
   ]
  },
  {
   "cell_type": "code",
   "execution_count": 9,
   "id": "35d1f232-152a-4ddf-a9d9-0c8d9f2b45c4",
   "metadata": {},
   "outputs": [
    {
     "data": {
      "text/plain": [
       "'ham'"
      ]
     },
     "execution_count": 9,
     "metadata": {},
     "output_type": "execute_result"
    }
   ],
   "source": [
    "y[10]"
   ]
  },
  {
   "cell_type": "code",
   "execution_count": 10,
   "id": "fca1fed0-1ff1-48c9-bfcc-4d3310602218",
   "metadata": {},
   "outputs": [],
   "source": [
    "# Model trainer \n",
    "import re  "
   ]
  },
  {
   "cell_type": "code",
   "execution_count": 11,
   "id": "2b8e32b9-b4a7-4d59-b68f-ef9234660946",
   "metadata": {},
   "outputs": [
    {
     "data": {
      "text/plain": [
       "'Iâ€˜m going to try for 2 months ha ha only joking'"
      ]
     },
     "execution_count": 11,
     "metadata": {},
     "output_type": "execute_result"
    }
   ],
   "source": [
    "x[21]"
   ]
  },
  {
   "cell_type": "code",
   "execution_count": 12,
   "id": "cf49d7d2-ddb7-41bc-89d7-3d50f2ccceeb",
   "metadata": {},
   "outputs": [
    {
     "data": {
      "text/plain": [
       "'im going to try for  months ha ha only joking'"
      ]
     },
     "execution_count": 12,
     "metadata": {},
     "output_type": "execute_result"
    }
   ],
   "source": [
    "ls = \"Hii i am from @gayaand pincode 823001\"\n",
    "re.sub('[^a-zA-Z ]','',x[21]).lower()"
   ]
  },
  {
   "cell_type": "code",
   "execution_count": 13,
   "id": "df5bf6b9-63a5-40a6-bf65-b096ee1a894a",
   "metadata": {},
   "outputs": [],
   "source": [
    "for i in range(len(x)):\n",
    "    x[i] = re.sub('[^a-zA-Z ]','',x[i]).lower()"
   ]
  },
  {
   "cell_type": "code",
   "execution_count": 14,
   "id": "23954364-1aed-4c1f-96ad-b575d15dba4f",
   "metadata": {},
   "outputs": [
    {
     "data": {
      "text/plain": [
       "'im going to try for  months ha ha only joking'"
      ]
     },
     "execution_count": 14,
     "metadata": {},
     "output_type": "execute_result"
    }
   ],
   "source": [
    "x[21]"
   ]
  },
  {
   "cell_type": "code",
   "execution_count": 15,
   "id": "b47a70e7-9937-4168-b107-3d7d08edd4f3",
   "metadata": {},
   "outputs": [
    {
     "data": {
      "text/html": [
       "<div>\n",
       "<style scoped>\n",
       "    .dataframe tbody tr th:only-of-type {\n",
       "        vertical-align: middle;\n",
       "    }\n",
       "\n",
       "    .dataframe tbody tr th {\n",
       "        vertical-align: top;\n",
       "    }\n",
       "\n",
       "    .dataframe thead th {\n",
       "        text-align: right;\n",
       "    }\n",
       "</style>\n",
       "<table border=\"1\" class=\"dataframe\">\n",
       "  <thead>\n",
       "    <tr style=\"text-align: right;\">\n",
       "      <th></th>\n",
       "      <th>email_message</th>\n",
       "      <th>label</th>\n",
       "    </tr>\n",
       "  </thead>\n",
       "  <tbody>\n",
       "    <tr>\n",
       "      <th>0</th>\n",
       "      <td>go until jurong point crazy available only in ...</td>\n",
       "      <td>ham</td>\n",
       "    </tr>\n",
       "    <tr>\n",
       "      <th>1</th>\n",
       "      <td>ok lar joking wif u oni</td>\n",
       "      <td>ham</td>\n",
       "    </tr>\n",
       "    <tr>\n",
       "      <th>2</th>\n",
       "      <td>free entry in  a wkly comp to win fa cup final...</td>\n",
       "      <td>spam</td>\n",
       "    </tr>\n",
       "    <tr>\n",
       "      <th>3</th>\n",
       "      <td>u dun say so early hor u c already then say</td>\n",
       "      <td>ham</td>\n",
       "    </tr>\n",
       "    <tr>\n",
       "      <th>4</th>\n",
       "      <td>nah i dont think he goes to usf he lives aroun...</td>\n",
       "      <td>ham</td>\n",
       "    </tr>\n",
       "  </tbody>\n",
       "</table>\n",
       "</div>"
      ],
      "text/plain": [
       "                                       email_message label\n",
       "0  go until jurong point crazy available only in ...   ham\n",
       "1                            ok lar joking wif u oni   ham\n",
       "2  free entry in  a wkly comp to win fa cup final...  spam\n",
       "3        u dun say so early hor u c already then say   ham\n",
       "4  nah i dont think he goes to usf he lives aroun...   ham"
      ]
     },
     "execution_count": 15,
     "metadata": {},
     "output_type": "execute_result"
    }
   ],
   "source": [
    "import pandas as pd \n",
    "dt = {\"email_message\":x,\"label\":y}\n",
    "df = pd.DataFrame(dt) \n",
    "df.head()"
   ]
  },
  {
   "cell_type": "code",
   "execution_count": 16,
   "id": "4ee6d741-4d1c-4516-8d7e-ef05ce6bca2b",
   "metadata": {},
   "outputs": [
    {
     "data": {
      "text/plain": [
       "label\n",
       "ham     4827\n",
       "spam     747\n",
       "Name: count, dtype: int64"
      ]
     },
     "execution_count": 16,
     "metadata": {},
     "output_type": "execute_result"
    }
   ],
   "source": [
    "df['label'].value_counts()\n",
    "#  spam other data add \n",
    "# ham data points remove "
   ]
  },
  {
   "cell_type": "code",
   "execution_count": 17,
   "id": "30ee9c93-e02c-4692-9f4a-6b331e89549c",
   "metadata": {},
   "outputs": [],
   "source": [
    "ham = df[df['label']=='ham']\n",
    "spam = df[df['label']=='spam']"
   ]
  },
  {
   "cell_type": "code",
   "execution_count": 18,
   "id": "5b1781e9-0189-4305-96d4-1961500f184c",
   "metadata": {},
   "outputs": [
    {
     "data": {
      "text/plain": [
       "((4827, 2), (747, 2))"
      ]
     },
     "execution_count": 18,
     "metadata": {},
     "output_type": "execute_result"
    }
   ],
   "source": [
    "ham.shape   ,    spam.shape "
   ]
  },
  {
   "cell_type": "code",
   "execution_count": 19,
   "id": "6e40d5cf-e3cc-478e-a658-ff6576e4edc4",
   "metadata": {},
   "outputs": [
    {
     "data": {
      "text/plain": [
       "(1000, 2)"
      ]
     },
     "execution_count": 19,
     "metadata": {},
     "output_type": "execute_result"
    }
   ],
   "source": [
    "ham.sample(1000).shape "
   ]
  },
  {
   "cell_type": "code",
   "execution_count": 20,
   "id": "1474e92f-8ba1-4ec6-8ef5-b339eb647d10",
   "metadata": {},
   "outputs": [],
   "source": [
    "ham = ham.sample(1000) "
   ]
  },
  {
   "cell_type": "code",
   "execution_count": 21,
   "id": "e5a1bc86-66b8-4cbd-a3ac-c2ed8262ac4d",
   "metadata": {},
   "outputs": [
    {
     "data": {
      "text/plain": [
       "((1000, 2), (747, 2))"
      ]
     },
     "execution_count": 21,
     "metadata": {},
     "output_type": "execute_result"
    }
   ],
   "source": [
    "ham.shape, spam.shape"
   ]
  },
  {
   "cell_type": "code",
   "execution_count": 22,
   "id": "9d4ad7fb-54f9-4887-8915-732b7f477856",
   "metadata": {},
   "outputs": [],
   "source": [
    "balance_df = pd.concat([ham,spam])"
   ]
  },
  {
   "cell_type": "code",
   "execution_count": 23,
   "id": "2fb9f86e-70de-488b-8649-93a9ace1c6ec",
   "metadata": {},
   "outputs": [
    {
     "data": {
      "text/plain": [
       "label\n",
       "ham     1000\n",
       "spam     747\n",
       "Name: count, dtype: int64"
      ]
     },
     "execution_count": 23,
     "metadata": {},
     "output_type": "execute_result"
    }
   ],
   "source": [
    "balance_df['label'].value_counts()"
   ]
  },
  {
   "cell_type": "code",
   "execution_count": 24,
   "id": "abdbcaf9-887a-4af9-8f08-d5445e7f2eb3",
   "metadata": {},
   "outputs": [],
   "source": [
    "x = balance_df['email_message']\n",
    "y = balance_df['label']"
   ]
  },
  {
   "cell_type": "code",
   "execution_count": 25,
   "id": "cb5d7aba-0df1-4a8c-badb-2ea5d50c2526",
   "metadata": {},
   "outputs": [
    {
     "data": {
      "text/plain": [
       "numpy.ndarray"
      ]
     },
     "execution_count": 25,
     "metadata": {},
     "output_type": "execute_result"
    }
   ],
   "source": [
    "x = x.values\n",
    "type(x)"
   ]
  },
  {
   "cell_type": "code",
   "execution_count": 26,
   "id": "1117a5c5-46e1-4b10-96c0-e221d06bef8a",
   "metadata": {},
   "outputs": [],
   "source": [
    "### email message transform into numerical \n",
    "\n",
    "from sklearn.feature_extraction.text import CountVectorizer , TfidfVectorizer\n",
    "bow =  CountVectorizer(max_features=1700,stop_words='english',)\n",
    "# bag of words "
   ]
  },
  {
   "cell_type": "code",
   "execution_count": 27,
   "id": "613b1d7b-54db-45b0-b315-caf9b12aaa36",
   "metadata": {},
   "outputs": [],
   "source": [
    "x = bow.fit_transform(x).toarray()"
   ]
  },
  {
   "cell_type": "code",
   "execution_count": 28,
   "id": "f16fe0da-5a9e-4acb-8dff-634bd0c8d21e",
   "metadata": {},
   "outputs": [
    {
     "data": {
      "text/plain": [
       "(1747, 1700)"
      ]
     },
     "execution_count": 28,
     "metadata": {},
     "output_type": "execute_result"
    }
   ],
   "source": [
    "x.shape"
   ]
  },
  {
   "cell_type": "code",
   "execution_count": 29,
   "id": "8227d314-a490-435a-bf39-fc2612b426ba",
   "metadata": {},
   "outputs": [
    {
     "data": {
      "text/plain": [
       "array([[0, 0, 0, ..., 0, 0, 0],\n",
       "       [0, 0, 0, ..., 0, 0, 0],\n",
       "       [0, 0, 0, ..., 0, 0, 0],\n",
       "       ...,\n",
       "       [0, 0, 0, ..., 0, 0, 0],\n",
       "       [0, 0, 0, ..., 0, 0, 0],\n",
       "       [0, 0, 0, ..., 0, 0, 0]], dtype=int64)"
      ]
     },
     "execution_count": 29,
     "metadata": {},
     "output_type": "execute_result"
    }
   ],
   "source": [
    "x"
   ]
  },
  {
   "cell_type": "code",
   "execution_count": 30,
   "id": "704e5b64-b901-4941-9b05-dbc71ce968a0",
   "metadata": {},
   "outputs": [
    {
     "data": {
      "text/plain": [
       "array(['able', 'abt', 'abta', ..., 'yrs', 'yup', 'zed'], dtype=object)"
      ]
     },
     "execution_count": 30,
     "metadata": {},
     "output_type": "execute_result"
    }
   ],
   "source": [
    "column_name = bow.get_feature_names_out()  # unique \n",
    "column_name"
   ]
  },
  {
   "cell_type": "code",
   "execution_count": 31,
   "id": "44de2595-6732-46b5-896b-6d4ef069407d",
   "metadata": {},
   "outputs": [],
   "source": [
    "testing =pd.DataFrame(x,columns=column_name)"
   ]
  },
  {
   "cell_type": "code",
   "execution_count": 32,
   "id": "46707d85-f43e-4b80-8c1d-315d84e2fcdc",
   "metadata": {},
   "outputs": [],
   "source": [
    "# pd.set_option('display.max_rows',None)\n",
    "# pd.set_option('display.max_rows',None)"
   ]
  },
  {
   "cell_type": "code",
   "execution_count": 33,
   "id": "2d8e3274-f7d1-43d9-a098-eb69e5d0ac15",
   "metadata": {},
   "outputs": [
    {
     "data": {
      "text/html": [
       "<div>\n",
       "<style scoped>\n",
       "    .dataframe tbody tr th:only-of-type {\n",
       "        vertical-align: middle;\n",
       "    }\n",
       "\n",
       "    .dataframe tbody tr th {\n",
       "        vertical-align: top;\n",
       "    }\n",
       "\n",
       "    .dataframe thead th {\n",
       "        text-align: right;\n",
       "    }\n",
       "</style>\n",
       "<table border=\"1\" class=\"dataframe\">\n",
       "  <thead>\n",
       "    <tr style=\"text-align: right;\">\n",
       "      <th></th>\n",
       "      <th>able</th>\n",
       "      <th>abt</th>\n",
       "      <th>abta</th>\n",
       "      <th>ac</th>\n",
       "      <th>access</th>\n",
       "      <th>account</th>\n",
       "      <th>action</th>\n",
       "      <th>activate</th>\n",
       "      <th>actually</th>\n",
       "      <th>address</th>\n",
       "      <th>...</th>\n",
       "      <th>yes</th>\n",
       "      <th>yesterday</th>\n",
       "      <th>yo</th>\n",
       "      <th>youll</th>\n",
       "      <th>youre</th>\n",
       "      <th>youve</th>\n",
       "      <th>yr</th>\n",
       "      <th>yrs</th>\n",
       "      <th>yup</th>\n",
       "      <th>zed</th>\n",
       "    </tr>\n",
       "  </thead>\n",
       "  <tbody>\n",
       "    <tr>\n",
       "      <th>0</th>\n",
       "      <td>0</td>\n",
       "      <td>0</td>\n",
       "      <td>0</td>\n",
       "      <td>0</td>\n",
       "      <td>0</td>\n",
       "      <td>0</td>\n",
       "      <td>0</td>\n",
       "      <td>0</td>\n",
       "      <td>0</td>\n",
       "      <td>0</td>\n",
       "      <td>...</td>\n",
       "      <td>0</td>\n",
       "      <td>0</td>\n",
       "      <td>0</td>\n",
       "      <td>0</td>\n",
       "      <td>0</td>\n",
       "      <td>0</td>\n",
       "      <td>0</td>\n",
       "      <td>0</td>\n",
       "      <td>0</td>\n",
       "      <td>0</td>\n",
       "    </tr>\n",
       "    <tr>\n",
       "      <th>1</th>\n",
       "      <td>0</td>\n",
       "      <td>0</td>\n",
       "      <td>0</td>\n",
       "      <td>0</td>\n",
       "      <td>0</td>\n",
       "      <td>0</td>\n",
       "      <td>0</td>\n",
       "      <td>0</td>\n",
       "      <td>0</td>\n",
       "      <td>0</td>\n",
       "      <td>...</td>\n",
       "      <td>0</td>\n",
       "      <td>0</td>\n",
       "      <td>0</td>\n",
       "      <td>0</td>\n",
       "      <td>0</td>\n",
       "      <td>0</td>\n",
       "      <td>0</td>\n",
       "      <td>0</td>\n",
       "      <td>0</td>\n",
       "      <td>0</td>\n",
       "    </tr>\n",
       "    <tr>\n",
       "      <th>2</th>\n",
       "      <td>0</td>\n",
       "      <td>0</td>\n",
       "      <td>0</td>\n",
       "      <td>0</td>\n",
       "      <td>0</td>\n",
       "      <td>0</td>\n",
       "      <td>0</td>\n",
       "      <td>0</td>\n",
       "      <td>0</td>\n",
       "      <td>0</td>\n",
       "      <td>...</td>\n",
       "      <td>0</td>\n",
       "      <td>0</td>\n",
       "      <td>0</td>\n",
       "      <td>0</td>\n",
       "      <td>0</td>\n",
       "      <td>0</td>\n",
       "      <td>0</td>\n",
       "      <td>0</td>\n",
       "      <td>0</td>\n",
       "      <td>0</td>\n",
       "    </tr>\n",
       "    <tr>\n",
       "      <th>3</th>\n",
       "      <td>0</td>\n",
       "      <td>0</td>\n",
       "      <td>0</td>\n",
       "      <td>0</td>\n",
       "      <td>0</td>\n",
       "      <td>0</td>\n",
       "      <td>0</td>\n",
       "      <td>0</td>\n",
       "      <td>0</td>\n",
       "      <td>0</td>\n",
       "      <td>...</td>\n",
       "      <td>0</td>\n",
       "      <td>0</td>\n",
       "      <td>0</td>\n",
       "      <td>0</td>\n",
       "      <td>0</td>\n",
       "      <td>0</td>\n",
       "      <td>0</td>\n",
       "      <td>0</td>\n",
       "      <td>0</td>\n",
       "      <td>0</td>\n",
       "    </tr>\n",
       "    <tr>\n",
       "      <th>4</th>\n",
       "      <td>0</td>\n",
       "      <td>0</td>\n",
       "      <td>0</td>\n",
       "      <td>0</td>\n",
       "      <td>0</td>\n",
       "      <td>0</td>\n",
       "      <td>0</td>\n",
       "      <td>0</td>\n",
       "      <td>0</td>\n",
       "      <td>0</td>\n",
       "      <td>...</td>\n",
       "      <td>0</td>\n",
       "      <td>0</td>\n",
       "      <td>0</td>\n",
       "      <td>0</td>\n",
       "      <td>0</td>\n",
       "      <td>0</td>\n",
       "      <td>0</td>\n",
       "      <td>0</td>\n",
       "      <td>0</td>\n",
       "      <td>0</td>\n",
       "    </tr>\n",
       "    <tr>\n",
       "      <th>...</th>\n",
       "      <td>...</td>\n",
       "      <td>...</td>\n",
       "      <td>...</td>\n",
       "      <td>...</td>\n",
       "      <td>...</td>\n",
       "      <td>...</td>\n",
       "      <td>...</td>\n",
       "      <td>...</td>\n",
       "      <td>...</td>\n",
       "      <td>...</td>\n",
       "      <td>...</td>\n",
       "      <td>...</td>\n",
       "      <td>...</td>\n",
       "      <td>...</td>\n",
       "      <td>...</td>\n",
       "      <td>...</td>\n",
       "      <td>...</td>\n",
       "      <td>...</td>\n",
       "      <td>...</td>\n",
       "      <td>...</td>\n",
       "      <td>...</td>\n",
       "    </tr>\n",
       "    <tr>\n",
       "      <th>1742</th>\n",
       "      <td>0</td>\n",
       "      <td>0</td>\n",
       "      <td>0</td>\n",
       "      <td>0</td>\n",
       "      <td>0</td>\n",
       "      <td>0</td>\n",
       "      <td>0</td>\n",
       "      <td>0</td>\n",
       "      <td>0</td>\n",
       "      <td>0</td>\n",
       "      <td>...</td>\n",
       "      <td>0</td>\n",
       "      <td>0</td>\n",
       "      <td>0</td>\n",
       "      <td>0</td>\n",
       "      <td>0</td>\n",
       "      <td>0</td>\n",
       "      <td>0</td>\n",
       "      <td>0</td>\n",
       "      <td>0</td>\n",
       "      <td>0</td>\n",
       "    </tr>\n",
       "    <tr>\n",
       "      <th>1743</th>\n",
       "      <td>0</td>\n",
       "      <td>0</td>\n",
       "      <td>0</td>\n",
       "      <td>0</td>\n",
       "      <td>0</td>\n",
       "      <td>0</td>\n",
       "      <td>0</td>\n",
       "      <td>0</td>\n",
       "      <td>0</td>\n",
       "      <td>0</td>\n",
       "      <td>...</td>\n",
       "      <td>1</td>\n",
       "      <td>0</td>\n",
       "      <td>0</td>\n",
       "      <td>0</td>\n",
       "      <td>0</td>\n",
       "      <td>0</td>\n",
       "      <td>0</td>\n",
       "      <td>0</td>\n",
       "      <td>0</td>\n",
       "      <td>0</td>\n",
       "    </tr>\n",
       "    <tr>\n",
       "      <th>1744</th>\n",
       "      <td>0</td>\n",
       "      <td>0</td>\n",
       "      <td>0</td>\n",
       "      <td>0</td>\n",
       "      <td>0</td>\n",
       "      <td>0</td>\n",
       "      <td>0</td>\n",
       "      <td>0</td>\n",
       "      <td>0</td>\n",
       "      <td>0</td>\n",
       "      <td>...</td>\n",
       "      <td>1</td>\n",
       "      <td>0</td>\n",
       "      <td>0</td>\n",
       "      <td>0</td>\n",
       "      <td>0</td>\n",
       "      <td>0</td>\n",
       "      <td>0</td>\n",
       "      <td>0</td>\n",
       "      <td>0</td>\n",
       "      <td>0</td>\n",
       "    </tr>\n",
       "    <tr>\n",
       "      <th>1745</th>\n",
       "      <td>0</td>\n",
       "      <td>0</td>\n",
       "      <td>0</td>\n",
       "      <td>0</td>\n",
       "      <td>0</td>\n",
       "      <td>0</td>\n",
       "      <td>0</td>\n",
       "      <td>0</td>\n",
       "      <td>0</td>\n",
       "      <td>0</td>\n",
       "      <td>...</td>\n",
       "      <td>0</td>\n",
       "      <td>0</td>\n",
       "      <td>0</td>\n",
       "      <td>0</td>\n",
       "      <td>0</td>\n",
       "      <td>0</td>\n",
       "      <td>0</td>\n",
       "      <td>0</td>\n",
       "      <td>0</td>\n",
       "      <td>0</td>\n",
       "    </tr>\n",
       "    <tr>\n",
       "      <th>1746</th>\n",
       "      <td>0</td>\n",
       "      <td>0</td>\n",
       "      <td>0</td>\n",
       "      <td>0</td>\n",
       "      <td>0</td>\n",
       "      <td>0</td>\n",
       "      <td>0</td>\n",
       "      <td>0</td>\n",
       "      <td>0</td>\n",
       "      <td>0</td>\n",
       "      <td>...</td>\n",
       "      <td>0</td>\n",
       "      <td>0</td>\n",
       "      <td>0</td>\n",
       "      <td>0</td>\n",
       "      <td>0</td>\n",
       "      <td>0</td>\n",
       "      <td>0</td>\n",
       "      <td>0</td>\n",
       "      <td>0</td>\n",
       "      <td>0</td>\n",
       "    </tr>\n",
       "  </tbody>\n",
       "</table>\n",
       "<p>1747 rows × 1700 columns</p>\n",
       "</div>"
      ],
      "text/plain": [
       "      able  abt  abta  ac  access  account  action  activate  actually  \\\n",
       "0        0    0     0   0       0        0       0         0         0   \n",
       "1        0    0     0   0       0        0       0         0         0   \n",
       "2        0    0     0   0       0        0       0         0         0   \n",
       "3        0    0     0   0       0        0       0         0         0   \n",
       "4        0    0     0   0       0        0       0         0         0   \n",
       "...    ...  ...   ...  ..     ...      ...     ...       ...       ...   \n",
       "1742     0    0     0   0       0        0       0         0         0   \n",
       "1743     0    0     0   0       0        0       0         0         0   \n",
       "1744     0    0     0   0       0        0       0         0         0   \n",
       "1745     0    0     0   0       0        0       0         0         0   \n",
       "1746     0    0     0   0       0        0       0         0         0   \n",
       "\n",
       "      address  ...  yes  yesterday  yo  youll  youre  youve  yr  yrs  yup  zed  \n",
       "0           0  ...    0          0   0      0      0      0   0    0    0    0  \n",
       "1           0  ...    0          0   0      0      0      0   0    0    0    0  \n",
       "2           0  ...    0          0   0      0      0      0   0    0    0    0  \n",
       "3           0  ...    0          0   0      0      0      0   0    0    0    0  \n",
       "4           0  ...    0          0   0      0      0      0   0    0    0    0  \n",
       "...       ...  ...  ...        ...  ..    ...    ...    ...  ..  ...  ...  ...  \n",
       "1742        0  ...    0          0   0      0      0      0   0    0    0    0  \n",
       "1743        0  ...    1          0   0      0      0      0   0    0    0    0  \n",
       "1744        0  ...    1          0   0      0      0      0   0    0    0    0  \n",
       "1745        0  ...    0          0   0      0      0      0   0    0    0    0  \n",
       "1746        0  ...    0          0   0      0      0      0   0    0    0    0  \n",
       "\n",
       "[1747 rows x 1700 columns]"
      ]
     },
     "execution_count": 33,
     "metadata": {},
     "output_type": "execute_result"
    }
   ],
   "source": [
    "testing"
   ]
  },
  {
   "cell_type": "code",
   "execution_count": 34,
   "id": "762b483d-88c5-4f88-8f70-1216533e1572",
   "metadata": {},
   "outputs": [],
   "source": [
    "# ham = 0  \n",
    "# spam = 1  \n",
    "dt = {'ham':0,'spam':1}\n",
    "y = y.map(dt)"
   ]
  },
  {
   "cell_type": "code",
   "execution_count": 35,
   "id": "7614cfc1-819c-4117-bba2-deb69fb1df0e",
   "metadata": {},
   "outputs": [],
   "source": [
    "import numpy as np "
   ]
  },
  {
   "cell_type": "code",
   "execution_count": 36,
   "id": "e859df61-872b-4eff-a376-897f68e6f8c8",
   "metadata": {},
   "outputs": [],
   "source": [
    "y = np.array(y)"
   ]
  },
  {
   "cell_type": "code",
   "execution_count": 37,
   "id": "ed5b0d15-4a7c-4c3c-a2d0-e8400d344352",
   "metadata": {},
   "outputs": [
    {
     "data": {
      "text/plain": [
       "((1747, 1700), (1747,))"
      ]
     },
     "execution_count": 37,
     "metadata": {},
     "output_type": "execute_result"
    }
   ],
   "source": [
    "x.shape , y.shape "
   ]
  },
  {
   "cell_type": "code",
   "execution_count": 38,
   "id": "a9ece369-0f21-4cc4-93cc-79e7be5e00c5",
   "metadata": {},
   "outputs": [],
   "source": [
    "# train test split \n",
    "from sklearn.model_selection import train_test_split"
   ]
  },
  {
   "cell_type": "code",
   "execution_count": 39,
   "id": "08032248-3bf0-4ec7-b6af-e33d73944cff",
   "metadata": {},
   "outputs": [],
   "source": [
    "x_train,x_test,y_train,y_test = train_test_split(x,y,test_size=0.15)"
   ]
  },
  {
   "cell_type": "code",
   "execution_count": 40,
   "id": "0cd6f110-37d9-4142-9d05-1df3b8a8fb3a",
   "metadata": {},
   "outputs": [],
   "source": [
    "from sklearn.naive_bayes import MultinomialNB, BernoulliNB "
   ]
  },
  {
   "cell_type": "code",
   "execution_count": 41,
   "id": "20874984-72e4-4dc6-bb24-594d05f1727f",
   "metadata": {},
   "outputs": [],
   "source": [
    "# Logisticregression\n",
    "# decisiontree classifier \n",
    "# randomforest classifier"
   ]
  },
  {
   "cell_type": "code",
   "execution_count": 42,
   "id": "6c2848a5-ea5a-46a1-aeb1-083a225367ce",
   "metadata": {},
   "outputs": [
    {
     "name": "stdout",
     "output_type": "stream",
     "text": [
      "Training score MNB :  97.50673854447439\n",
      "Testing score MNB :  95.43726235741445\n",
      "\n",
      "Training score bnb :  95.95687331536388\n",
      "Testing score bnb :  96.57794676806084\n"
     ]
    }
   ],
   "source": [
    "# Logisticregression\n",
    "# decisiontree classifier \n",
    "# randomforest classifier   \n",
    "mb = MultinomialNB()\n",
    "bnb = BernoulliNB() \n",
    "\n",
    "mb.fit(x_train,y_train) \n",
    "bnb.fit(x_train,y_train) \n",
    "\n",
    "print(\"Training score MNB : \",mb.score(x_train,y_train)*100)\n",
    "print(\"Testing score MNB : \",mb.score(x_test,y_test)*100)\n",
    "print()\n",
    "print(\"Training score bnb : \",bnb.score(x_train,y_train)*100)\n",
    "print(\"Testing score bnb : \",bnb.score(x_test,y_test)*100)"
   ]
  },
  {
   "cell_type": "code",
   "execution_count": 43,
   "id": "7684ac49-10c4-4af4-8de1-12b2512dfd5b",
   "metadata": {},
   "outputs": [],
   "source": [
    "import joblib "
   ]
  },
  {
   "cell_type": "code",
   "execution_count": 44,
   "id": "c181ef1e-fe12-474d-943f-59ef464c04be",
   "metadata": {},
   "outputs": [
    {
     "data": {
      "text/plain": [
       "['countvectorizer.lb']"
      ]
     },
     "execution_count": 44,
     "metadata": {},
     "output_type": "execute_result"
    }
   ],
   "source": [
    "joblib.dump(bnb,'BNB_Model.lb')\n",
    "joblib.dump(bow,'countvectorizer.lb')"
   ]
  },
  {
   "cell_type": "code",
   "execution_count": 45,
   "id": "ee9dd699-9076-4cd6-baaa-bd35288cdaef",
   "metadata": {},
   "outputs": [],
   "source": [
    "# prediction "
   ]
  },
  {
   "cell_type": "code",
   "execution_count": 46,
   "id": "d243b6c6-12f2-47ee-a38b-76a7bc24eae7",
   "metadata": {},
   "outputs": [],
   "source": [
    "prediction = bnb.predict(x_test)"
   ]
  },
  {
   "cell_type": "code",
   "execution_count": 47,
   "id": "506463f7-9b38-4599-b7b2-be7950ea83ba",
   "metadata": {},
   "outputs": [
    {
     "data": {
      "text/plain": [
       "array([0, 0, 0, 0, 0, 1, 0, 1, 0, 0], dtype=int64)"
      ]
     },
     "execution_count": 47,
     "metadata": {},
     "output_type": "execute_result"
    }
   ],
   "source": [
    "prediction[:10]"
   ]
  },
  {
   "cell_type": "code",
   "execution_count": 48,
   "id": "626a8bf2-a299-4b78-a344-5ff3f98b2cb5",
   "metadata": {},
   "outputs": [
    {
     "data": {
      "text/plain": [
       "array([0, 0, 0, 0, 0, 1, 0, 1, 0, 0], dtype=int64)"
      ]
     },
     "execution_count": 48,
     "metadata": {},
     "output_type": "execute_result"
    }
   ],
   "source": [
    "y_test[:10]"
   ]
  },
  {
   "cell_type": "code",
   "execution_count": 49,
   "id": "1f4b3d19-9a72-46bf-afea-7625565548b3",
   "metadata": {},
   "outputs": [],
   "source": [
    "from sklearn.metrics import confusion_matrix"
   ]
  },
  {
   "cell_type": "code",
   "execution_count": 50,
   "id": "6a067f6b-8888-40d7-b9f4-877ef267924e",
   "metadata": {},
   "outputs": [
    {
     "data": {
      "text/plain": [
       "array([[161,   0],\n",
       "       [  9,  93]], dtype=int64)"
      ]
     },
     "execution_count": 50,
     "metadata": {},
     "output_type": "execute_result"
    }
   ],
   "source": [
    "confusion_matrix(y_test,prediction)"
   ]
  },
  {
   "cell_type": "code",
   "execution_count": null,
   "id": "d9284d0e-b8c6-4607-8a2a-e161c575c99e",
   "metadata": {},
   "outputs": [],
   "source": []
  }
 ],
 "metadata": {
  "kernelspec": {
   "display_name": "Python 3 (ipykernel)",
   "language": "python",
   "name": "python3"
  },
  "language_info": {
   "codemirror_mode": {
    "name": "ipython",
    "version": 3
   },
   "file_extension": ".py",
   "mimetype": "text/x-python",
   "name": "python",
   "nbconvert_exporter": "python",
   "pygments_lexer": "ipython3",
   "version": "3.12.3"
  }
 },
 "nbformat": 4,
 "nbformat_minor": 5
}
